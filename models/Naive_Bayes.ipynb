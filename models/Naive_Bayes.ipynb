{
 "cells": [
  {
   "cell_type": "markdown",
   "metadata": {
    "id": "crnS09rUx0aW"
   },
   "source": [
    "#**1. Naive Bayes Əsasları** 📊"
   ]
  },
  {
   "cell_type": "markdown",
   "metadata": {
    "id": "etfcyoUPx5Tz"
   },
   "source": [
    "## **1.1. Naive Bayes-in Tərifi və Əsas Məntiqi** 💡\n",
    "\n",
    "**Naive Bayes** — statistik, ehtimal əsaslı bir **klassifikasiya alqoritmidir**. O, **Bayes teoreminə** əsaslanır və fərz edir ki, verilənlərin xüsusiyyətləri (features) **bir-birindən müstəqildir**.\n",
    "\n",
    "- Adındakı **\"Naive\" (sadəlövh)** hissəsi məhz bu müstəqillik fərziyyəsindən gəlir.\n",
    "- Sadə görünsə də, mətn təsnifatı 📝, spam filtrləmə 📩, tibbi diaqnostika 🏥 kimi sahələrdə çox uğurlu nəticələr verir.\n",
    "\n",
    "**Əsas məntiq:**\n",
    "1. Əvvəlcə hər bir sinifin **prior ehtimalını** tapırıq:  $P(C_k)$\n",
    "2. Daha sonra verilən xüsusiyyətlərin həmin sinifdə olma ehtimallarını tapırıq:  $P(x_i | C_k)$\n",
    "3. Bayes teoremi ilə verilən nümunənin hansı sinifə aid olduğunu müəyyən edirik."
   ]
  },
  {
   "cell_type": "markdown",
   "metadata": {
    "id": "N_SLc_DlyeSm"
   },
   "source": [
    "## **1.2. Bayes Teoremi və Formulu** 📐\n",
    "\n",
    "Bayes teoremi ehtimal nəzəriyyəsinin əsas bünövrələrindən biridir.\n",
    "\n",
    "Formul:\n",
    "$$\n",
    "P(C_k | X) = \\frac{P(X | C_k) \\cdot P(C_k)}{P(X)}\n",
    "$$\n",
    "\n",
    "Burada:\n",
    "- $C_k$ — k-cı sinif\n",
    "- $ X $ — verilən xüsusiyyətlər vektoru (məs: $(x_1, x_2, \\dots, x_n)$)\n",
    "- $ P(C_k | X) $ — **posterior ehtimal**: $ X $ müşahidə olunduqda $ C_k $ sinifinin ehtimalı\n",
    "- $ P(X | C_k) $ — **likelihood**: $ C_k $ sinifində $ X $-in ehtimalı\n",
    "- $ P(C_k) $ — **prior ehtimal**: ümumilikdə $ C_k $ sinifinin ehtimalı\n",
    "- $ P(X) $ — **evidence**: bütün siniflərdə $ X $-in ehtimalı\n",
    "\n",
    "**Naive Bayes-də**:\n",
    "$$\n",
    "P(X|C_k) = \\prod_{i=1}^n P(x_i | C_k)\n",
    "$$\n",
    "çünki fərz edilir ki, xüsusiyyətlər bir-birindən müstəqildir."
   ]
  },
  {
   "cell_type": "code",
   "execution_count": null,
   "metadata": {
    "colab": {
     "base_uri": "https://localhost:8080/"
    },
    "id": "6jKwx-F7QNY7",
    "outputId": "d1d92f96-0228-4a8e-9f77-5858c9a6d456"
   },
   "outputs": [
    {
     "name": "stdout",
     "output_type": "stream",
     "text": [
      "Posterior ehtimal: 0.55\n"
     ]
    }
   ],
   "source": []
  },
  {
   "cell_type": "markdown",
   "metadata": {
    "id": "Xkg-_OGqyiMI"
   },
   "source": [
    "## **1.3. “Naive” (Müstəqillik) Fərziyyəsi** 🔍\n",
    "\n",
    "Naive Bayes-in ən böyük sadələşdirməsi:  \n",
    "**\"Bütün xüsusiyyətlər sinif daxilində bir-birindən tam müstəqildir\"**\n",
    "\n",
    "Məsələn:\n",
    "- E-mail spam filtri nümunəsi:\n",
    "  - Xüsusiyyətlər: **[\"pulsuz\" sözünün olması, \"klik et\" ifadəsinin olması, mesajın uzunluğu]**\n",
    "  - Naive Bayes fərz edir ki, \"pulsuz\" sözünün olması ilə \"klik et\" ifadəsinin olması **bir-birinə təsir etmir**.\n",
    "  - Əslində real həyatda bunlar bağlıdır, amma bu fərziyyə hesablamanı çox sadələşdirir.\n",
    "\n",
    "**Üstünlükləri** ✅: Hesablama sürətlidir, az miqdarda verilənlərlə belə işləyir.  \n",
    "**Çatışmazlıqları** ⚠️: Xüsusiyyətlər arasında güclü əlaqələr olduqda performans pisləşə bilər."
   ]
  },
  {
   "cell_type": "markdown",
   "metadata": {
    "id": "tuYRbuKZymFY"
   },
   "source": [
    "## **1.4. Ehtimal Əsaslı Klassifikasiya Yanaşması** 🎯\n",
    "\n",
    "Naive Bayes bir **ehtimal modeli** olduğu üçün qərar qaydası belədir:\n",
    "\n",
    "Bir müşahidə üçün:\n",
    "$$\n",
    "\\hat{C} = \\arg \\max_{C_k} P(C_k | X)\n",
    "$$\n",
    "\n",
    "Əməli olaraq:\n",
    "1. Hər sinif üçün **posterior ehtimal** hesabla\n",
    "2. Ən böyük ehtimala malik sinifi seç\n",
    "\n",
    "Məsələn:\n",
    "- Verilənlər: **Hava Günəşlidir ☀️, Temperatur Yüksəkdir 🌡️**\n",
    "- Siniflər: **[Futbol oynamaq ⚽, Oynamamaq 🚫]**\n",
    "- Hesablanır:\n",
    "  - $ P(\\text{Oynamaq} | \\text{Günəşli, Yüksək}) $\n",
    "  - $ P(\\text{Oynamamaq} | \\text{Günəşli, Yüksək}) $\n",
    "- Hansı böyükdürsə, onu seçirik."
   ]
  },
  {
   "cell_type": "code",
   "execution_count": null,
   "metadata": {
    "colab": {
     "base_uri": "https://localhost:8080/"
    },
    "id": "yI7v0z61Qaw_",
    "outputId": "155fa258-c341-436c-b864-883ceba0fbce"
   },
   "outputs": [
    {
     "name": "stdout",
     "output_type": "stream",
     "text": [
      "Oynamamaq: 0.05\n",
      "Oynamaq: 0.95\n",
      "Seçilmiş sinif: Oynamaq\n"
     ]
    }
   ],
   "source": []
  },
  {
   "cell_type": "markdown",
   "metadata": {
    "id": "Wdv2LEoWxxEC"
   },
   "source": [
    "## **1.5. Naive Bayes-in Üstünlükləri və Çatışmazlıqları** ⚖️\n",
    "\n",
    "**Üstünlüklər:**\n",
    "- Sadə və sürətli ⚡ (həm təlim, həm proqnoz mərhələsində)\n",
    "- Kiçik dataset-lərdə belə yaxşı nəticə 📈\n",
    "- Mətn təsnifatında yüksək performans 📝\n",
    "- Səs-küylü verilənlərə qarşı davamlıdır 🔊\n",
    "\n",
    "**Çatışmazlıqlar:**\n",
    "- Xüsusiyyətlər arasındakı əlaqələri nəzərə almır 🔗\n",
    "- Numerik dəyişənlərdə düzgün paylanma fərziyyəsi (məs: Gaussian) lazım olur 📊\n",
    "- Sıfır ehtimal problemi (Laplace smoothing lazım ola bilər) 🛠️"
   ]
  },
  {
   "cell_type": "markdown",
   "metadata": {
    "id": "JO2CT3r2zyji"
   },
   "source": [
    "#**2. Naive Bayes Növləri** 🧠\n",
    "\n",
    "Naive Bayes ailəsində müxtəlif variantlar var və onların hər biri fərqli tip verilənlər üçün optimallaşdırılıb. Əsas fərqlər **xüsusiyyətlərin paylanma modeli** 📊 və **ehtimal hesablanma üsulu** 📐 ilə bağlıdır.  \n"
   ]
  },
  {
   "cell_type": "markdown",
   "metadata": {
    "id": "L40UnqAo0hoA"
   },
   "source": [
    "## **2.1. Gaussian Naive Bayes (Numeric Verilənlər üçün)** 📈\n",
    "\n",
    "- **İşləmə prinsipi:**  \n",
    "  Gaussian Naive Bayes fərz edir ki, hər bir xüsusiyyət **normal (Gaussian) paylanmaya** malikdir 🔔.  \n",
    "  Bu o deməkdir ki, hər bir xüsusiyyətin ehtimal sıxlığı belə ifadə olunur:\n",
    "  $$\n",
    "  P(x_i | C_k) = \\frac{1}{\\sqrt{2 \\pi \\sigma_k^2}} \\exp\\left(-\\frac{(x_i - \\mu_k)^2}{2\\sigma_k^2}\\right)\n",
    "  $$\n",
    "  Burada:\n",
    "  - $ \\mu_k $ — həmin xüsusiyyətin $ C_k $ sinfində orta dəyəri\n",
    "  - $ \\sigma_k^2 $ — həmin xüsusiyyətin $ C_k $ sinfində dispersiyası\n",
    "\n",
    "- **Harada istifadə olunur:**\n",
    "  - Numerik (real ədədlər) verilənlərdə, məsələn:\n",
    "    - Tibbi ölçmələr 🩺 (qan təzyiqi, şəkər səviyyəsi)\n",
    "    - Sensor məlumatları 📡\n",
    "    - Ölçü və faiz tipli verilənlər 📏\n",
    "\n",
    "- **Üstünlükləri:**\n",
    "  - Sürətli hesablama ⚡\n",
    "  - Kiçik dataset-lərdə də yaxşı işləyir\n",
    "\n",
    "- **Çatışmazlıqları:**\n",
    "  - Verilənlər normal paylanmaya yaxın olmalıdır, əks halda nəticə zəifləyə bilər ⚠️"
   ]
  },
  {
   "cell_type": "code",
   "execution_count": null,
   "metadata": {
    "colab": {
     "base_uri": "https://localhost:8080/"
    },
    "id": "BFdQIDl9Qrog",
    "outputId": "57de7330-65f8-42cb-93cd-ccdd59b82e52"
   },
   "outputs": [
    {
     "name": "stdout",
     "output_type": "stream",
     "text": [
      "Gaussian Naive Bayes Nəticələri:\n",
      "              precision    recall  f1-score   support\n",
      "\n",
      "           0       1.00      1.00      1.00        19\n",
      "           1       1.00      0.92      0.96        13\n",
      "           2       0.93      1.00      0.96        13\n",
      "\n",
      "    accuracy                           0.98        45\n",
      "   macro avg       0.98      0.97      0.97        45\n",
      "weighted avg       0.98      0.98      0.98        45\n",
      "\n"
     ]
    }
   ],
   "source": []
  },
  {
   "cell_type": "markdown",
   "metadata": {
    "id": "nQ1tY9Ra0k5y"
   },
   "source": [
    "## **2.2. Multinomial Naive Bayes (Diskret Dəyərlər üçün)** 🔢\n",
    "\n",
    "- **İşləmə prinsipi:**  \n",
    "  Multinomial Naive Bayes **sayma əsaslı verilənlər** üçün nəzərdə tutulub. Ən çox **mətn təsnifatında** istifadə olunur 📝.  \n",
    "  Burada ehtimallar xüsusiyyətlərin **frekanslarına** görə hesablanır:\n",
    "  $$\n",
    "  P(X|C_k) = \\frac{(n_{c_1} + \\alpha) \\cdot (n_{c_2} + \\alpha) \\cdots}{(N_c + \\alpha \\cdot m)^n}\n",
    "  $$\n",
    "  Burada:\n",
    "  - $ n_{c_i} $ — xüsusiyyətin sinifdə neçə dəfə göründüyü\n",
    "  - $ N_c $ — sinifdəki bütün xüsusiyyətlərin toplam sayı\n",
    "  - $ m $ — unikal xüsusiyyətlərin sayı\n",
    "  - $ \\alpha $ — **Laplace smoothing** parametri 🛠️\n",
    "\n",
    "- **Harada istifadə olunur:**\n",
    "  - Mətn təsnifatı (spam filtr 📩, sentiment analizi 😀😠)\n",
    "  - Sözlərin və ya tokenlərin tezliyinin ölçüldüyü hallarda\n",
    "\n",
    "- **Üstünlükləri:**\n",
    "  - Mətn təsnifatı üçün çox uğurludur ✅\n",
    "  - Yüksək ölçülü (high-dimensional) verilənlərdə yaxşı işləyir 📈\n",
    "\n",
    "- **Çatışmazlıqları:**\n",
    "  - Yalnız sayma əsaslı verilənlərdə effektivdir ⚠️"
   ]
  },
  {
   "cell_type": "code",
   "execution_count": null,
   "metadata": {
    "colab": {
     "base_uri": "https://localhost:8080/"
    },
    "id": "0GIbbixTQwV1",
    "outputId": "ddaff2e9-86cf-4e9b-ee9b-5452f4b807c8"
   },
   "outputs": [
    {
     "name": "stdout",
     "output_type": "stream",
     "text": [
      "Multinomial Naive Bayes Nəticələri:\n",
      "              precision    recall  f1-score   support\n",
      "\n",
      "           0       0.99      0.99      0.99       183\n",
      "           1       0.99      0.99      0.99       174\n",
      "\n",
      "    accuracy                           0.99       357\n",
      "   macro avg       0.99      0.99      0.99       357\n",
      "weighted avg       0.99      0.99      0.99       357\n",
      "\n"
     ]
    }
   ],
   "source": []
  },
  {
   "cell_type": "markdown",
   "metadata": {
    "id": "Jf-mm4uw0oae"
   },
   "source": [
    "## **2.3. Bernoulli Naive Bayes (Binary üçün)** 0️⃣1️⃣\n",
    "\n",
    "- **İşləmə prinsipi:**  \n",
    "  Bernoulli Naive Bayes xüsusiyyətlərin **binary (0 və ya 1)** olduğu hallarda istifadə olunur.  \n",
    "  Yəni hər xüsusiyyət yalnız \"var\" ✅ və ya \"yox\" ❌ kimi qiymət alır.  \n",
    "  Ehtimallar belə hesablanır:\n",
    "  - Əgər xüsusiyyət mövcuddursa:\n",
    "    $$\n",
    "    P(x_i = 1 | C_k)\n",
    "    $$\n",
    "  - Əgər mövcud deyilsə:\n",
    "    $$\n",
    "    1 - P(x_i = 1 | C_k)\n",
    "    $$\n",
    "\n",
    "- **Harada istifadə olunur:**\n",
    "  - Mətn təsnifatı (sözün olub-olmaması əsasındadır, tezlik yox) 📝\n",
    "  - Anket və sorğular (bəli/xeyr tipli cavablar) 🗳️\n",
    "  - Boolean tipli xüsusiyyətlər 🔘\n",
    "\n",
    "- **Üstünlükləri:**\n",
    "  - Sadə və effektivdir ⚡\n",
    "  - Var/Yox tipli xüsusiyyətlər üçün ideal 🎯\n",
    "\n",
    "- **Çatışmazlıqları:**\n",
    "  - Tezlik məlumatlarını istifadə etmir, yalnız mövcudluğa baxır ⚠️"
   ]
  },
  {
   "cell_type": "markdown",
   "metadata": {
    "id": "jp9hlu2czu9T"
   },
   "source": [
    "## **2.4. Complement Naive Bayes (Disbalanced Verilənlər üçün)** ⚖️\n",
    "\n",
    "- **İşləmə prinsipi:**  \n",
    "  Complement Naive Bayes, **sinif balanssızlığı** ⚠️ olan dataset-lərdə daha yaxşı nəticə vermək üçün hazırlanıb.  \n",
    "  Əsas fərqi odur ki, ehtimallar hesablanarkən **müvafiq sinifdən başqa bütün siniflərin statistikası** istifadə olunur 📊.  \n",
    "  Yəni \"complement\" anlayışı — bir sinifin tamamlayıcısı mənasındadır 🔄.\n",
    "\n",
    "- **Harada istifadə olunur:**\n",
    "  - Mətn təsnifatında (xüsusilə class imbalance olduqda) 📝\n",
    "  - Az sayda nümunəyə malik siniflərin qorunması lazım olanda 🛡️\n",
    "\n",
    "- **Üstünlükləri:**\n",
    "  - Dengesiz verilənlərdə performansı artırır 🚀\n",
    "  - Multinomial NB-yə alternativ kimi daha sabit nəticələr verir ✅\n",
    "\n",
    "- **Çatışmazlıqları:**\n",
    "  - Hesablama bir az daha mürəkkəbdir 🔄\n",
    "  - Kiçik dataset-lərdə Multinomial NB qədər stabil olmaya bilər ⚠️"
   ]
  },
  {
   "cell_type": "code",
   "execution_count": null,
   "metadata": {
    "colab": {
     "base_uri": "https://localhost:8080/"
    },
    "id": "SqMzoKxyQ_cU",
    "outputId": "75542925-e420-49f7-fa20-71a94a6475b6"
   },
   "outputs": [
    {
     "name": "stdout",
     "output_type": "stream",
     "text": [
      "Complement Naive Bayes Nəticələri:\n",
      "              precision    recall  f1-score   support\n",
      "\n",
      "           0       0.98      1.00      0.99       172\n",
      "           1       1.00      0.94      0.97        52\n",
      "\n",
      "    accuracy                           0.99       224\n",
      "   macro avg       0.99      0.97      0.98       224\n",
      "weighted avg       0.99      0.99      0.99       224\n",
      "\n"
     ]
    }
   ],
   "source": []
  },
  {
   "cell_type": "markdown",
   "metadata": {
    "id": "x7GGra1v1CaV"
   },
   "source": [
    "#**3. Gaussian Naive Bayes-ə Xas Mövzular** 🧠\n",
    "\n",
    "Gaussian Naive Bayes modeli, **numerik (real ədədlər) verilənlər** üzərində işləyərkən ən çox istifadə olunan Naive Bayes variantıdır. Bu model **xüsusiyyətlərin normal (Gaussian) paylanmaya malik olduğunu** fərz edir və bütün ehtimal hesablamaları bu fərziyyəyə əsaslanır.  \n"
   ]
  },
  {
   "cell_type": "markdown",
   "metadata": {
    "id": "3LZBkYjm1sPk"
   },
   "source": [
    "## **3.1. Gaussian Paylanma Fərziyyəsi** 🔔\n",
    "\n",
    "Gaussian Naive Bayes-də əsas fərziyyə belədir:  \n",
    "Hər bir xüsusiyyət $x_i$ müəyyən bir sinif $C_k$ daxilində **normal paylanır**. Yəni:\n",
    "\n",
    "$$\n",
    "x_i | C_k \\sim \\mathcal{N}(\\mu_k, \\sigma_k^2)\n",
    "$$\n",
    "\n",
    "Normal paylanmanın sıxlıq funksiyası:\n",
    "$$\n",
    "P(x_i | C_k) = \\frac{1}{\\sqrt{2 \\pi \\sigma_k^2}} \\exp\\left(-\\frac{(x_i - \\mu_k)^2}{2\\sigma_k^2}\\right)\n",
    "$$\n",
    "\n",
    "**Misal:**  \n",
    "Əgər tələbələrin imtahan nəticələri (0–100 arası) müəyyən bir sinifdə normal paylanırsa, o zaman Gaussian Naive Bayes bu nəticələrin ehtimal sıxlığını yuxarıdakı formul ilə hesablaya bilər."
   ]
  },
  {
   "cell_type": "markdown",
   "metadata": {
    "id": "I6NkQD4c1v5Q"
   },
   "source": [
    "## **3.2. Orta ($\\mu$) və Dispersiya ($\\sigma^2$) Hesablama** 📏\n",
    "\n",
    "Gaussian Naive Bayes-də hər bir xüsusiyyətin hər bir sinifdə **orta** və **dispersiya** dəyərləri ayrıca hesablanır.\n",
    "\n",
    "- **Orta**:\n",
    "$$\n",
    "\\mu_k = \\frac{1}{N_k} \\sum_{j=1}^{N_k} x_j\n",
    "$$\n",
    "- **Dispersiya**:\n",
    "$$\n",
    "\\sigma_k^2 = \\frac{1}{N_k} \\sum_{j=1}^{N_k} (x_j - \\mu_k)^2\n",
    "$$\n",
    "\n",
    "Burada:\n",
    "- $N_k$ — $C_k$ sinifindəki nümunələrin sayı  \n",
    "- $x_j$ — xüsusiyyətin qiyməti\n",
    "\n",
    "**Misal:**  \n",
    "Tibbi dataset-də \"qan təzyiqi\" xüsusiyyəti üçün:\n",
    "- $C_1$: xəstə\n",
    "- $C_2$: sağlam\n",
    "\n",
    "Hər sinif üçün ayrı $\\mu_k$ və $\\sigma_k^2$ hesablanır."
   ]
  },
  {
   "cell_type": "markdown",
   "metadata": {
    "id": "nHfcFs_P1y7S"
   },
   "source": [
    "## **3.3. Ədədi Xüsusiyyətlər üçün Ehtimal Hesabı** 📊\n",
    "\n",
    "Əgər bizdə **ədədi** bir xüsusiyyət varsa (məsələn, boy, çəki, temperatur), onun ehtimalını tapmaq üçün **normal paylanma sıxlıq funksiyası** istifadə olunur.\n",
    "\n",
    "Hər xüsusiyyətin ehtimalı hesablanır, sonra Naive Bayes fərziyyəsinə görə **müstəqillik** tətbiq edilərək bütün ehtimallar hasillənir:\n",
    "$$\n",
    "P(X|C_k) = \\prod_{i=1}^n P(x_i|C_k)\n",
    "$$"
   ]
  },
  {
   "cell_type": "markdown",
   "metadata": {
    "id": "QIUq7O1H12iP"
   },
   "source": [
    "## **3.4. Parametr Təxmin Metodları (MLE)** 📐\n",
    "\n",
    "Gaussian Naive Bayes-də orta ($\\mu$) və dispersiya ($\\sigma^2$) dəyərləri **Maximum Likelihood Estimation (MLE)** üsulu ilə tapılır.\n",
    "\n",
    "MLE prinsipi — verilənləri ən çox ehtimalla izah edən parametr dəyərlərini tapmaqdır.\n",
    "\n",
    "Normal paylanma üçün MLE nəticələri:\n",
    "- $\\mu_k$ — nümunə ortalaması  \n",
    "- $\\sigma_k^2$ — nümunə dispersiyası  \n",
    "\n",
    "Yəni yuxarıda verdiyimiz formullar əslində MLE nəticəsidir."
   ]
  },
  {
   "cell_type": "markdown",
   "metadata": {
    "id": "VmKRzdZ90_-1"
   },
   "source": [
    "## **3.5. Logaritmik Ehtimal İstifadəsi (Rəqəmsal Sabitlik)** 🔢\n",
    "\n",
    "Çoxlu xüsusiyyət olduqda ehtimalların hasili çox kiçik ədədlərə gətirib çıxara bilər (**floating point underflow** problemi).  \n",
    "Bunu həll etmək üçün **log ehtimallar** istifadə olunur:\n",
    "\n",
    "$$\n",
    "\\log P(X|C_k) = \\sum_{i=1}^n \\log P(x_i|C_k)\n",
    "$$\n",
    "\n",
    "Logarifm istifadəsi:\n",
    "- Çox kiçik ədədlərin sıfıra yuvarlaqlaşmasının qarşısını alır  \n",
    "- Hesablama dəqiqliyini artırır  \n",
    "- Hasili toplama əməliyyatına çevirir (daha sürətli)  \n"
   ]
  },
  {
   "cell_type": "code",
   "execution_count": null,
   "metadata": {
    "colab": {
     "base_uri": "https://localhost:8080/"
    },
    "id": "kQ5HVa1uRns_",
    "outputId": "124d9e55-f55d-4a50-9f92-9bbd7abe19c7"
   },
   "outputs": [
    {
     "name": "stdout",
     "output_type": "stream",
     "text": [
      "Orta (μ) dəyərləri hər sinif üçün:\n",
      "[[5.006 3.428 1.462 0.246]\n",
      " [5.936 2.77  4.26  1.326]\n",
      " [6.588 2.974 5.552 2.026]]\n",
      "\n",
      "Dispersiya (σ²) dəyərləri hər sinif üçün:\n",
      "[[0.121764 0.140816 0.029556 0.010884]\n",
      " [0.261104 0.0965   0.2164   0.038324]\n",
      " [0.396256 0.101924 0.298496 0.073924]]\n",
      "\n",
      "Ehtimal proqnozları (P(X|C_k)):\n",
      "[[1.00000000e+00 1.35784265e-18 7.11283512e-26]]\n",
      "\n",
      "Log ehtimal proqnozları (log P(X|C_k)):\n",
      "[[  0.         -41.14063452 -57.9053115 ]]\n",
      "\n",
      "Proqnoz olunan sinif:\n",
      "[0]\n"
     ]
    }
   ],
   "source": []
  },
  {
   "cell_type": "markdown",
   "metadata": {
    "id": "_1ULbZ962Hmj"
   },
   "source": [
    "#**4. Naive Bayes-in Riyazi Əsasları** 📐\n",
    "\n",
    "Naive Bayes modeli tamamilə **Bayes Teoreminə** və **sadə müstəqillik fərziyyəsinə** əsaslanır. Bu hissədə modelin riyazi təməllərini addım-addım izah edəcəyik."
   ]
  },
  {
   "cell_type": "markdown",
   "metadata": {
    "id": "wzZRUN6G2Vq1"
   },
   "source": [
    "## **4.1. Bayes Teoreminin Ətraflı İzahı** 📜\n",
    "\n",
    "Bayes Teoremi iki hadisə arasındakı şərtli ehtimal əlaqəsini ifadə edir:\n",
    "\n",
    "$$\n",
    "P(C_k | X) = \\frac{P(X | C_k) \\cdot P(C_k)}{P(X)}\n",
    "$$\n",
    "\n",
    "Burada:\n",
    "- $P(C_k | X)$ — Verilən $X$ xüsusiyyətləri əsasında $C_k$ sinfinin ehtimalı (**posterior ehtimal**)\n",
    "- $P(X | C_k)$ — $C_k$ sinfində $X$ xüsusiyyətlərinin müşahidə edilmə ehtimalı (**likelihood**)\n",
    "- $P(C_k)$ — $C_k$ sinfinin ümumi ehtimalı (**prior ehtimal**)\n",
    "- $P(X)$ — $X$ xüsusiyyətlərinin ümumi ehtimalı (**evidence**)\n",
    "\n",
    "Naive Bayes-də $P(X)$ bütün siniflər üçün eynidir, ona görə də sinif seçimi zamanı müqayisədə nəzərə alınmır."
   ]
  },
  {
   "cell_type": "markdown",
   "metadata": {
    "id": "-_v9Kx242YMl"
   },
   "source": [
    "## **4.2. Maksimum A Posteriori (MAP) Təxmini** 🎯\n",
    "\n",
    "Naive Bayes klassifikatoru sinfi seçərkən **MAP prinsipi** tətbiq edir:\n",
    "\n",
    "$$\n",
    "\\hat{C} = \\arg\\max_{C_k} P(C_k | X)\n",
    "$$\n",
    "\n",
    "Bayes Teoremini yerinə qoyduqda:\n",
    "\n",
    "$$\n",
    "\\hat{C} = \\arg\\max_{C_k} \\frac{P(X | C_k) \\cdot P(C_k)}{P(X)}\n",
    "$$\n",
    "\n",
    "$P(X)$ bütün siniflər üçün eyni olduğundan:\n",
    "\n",
    "$$\n",
    "\\hat{C} = \\arg\\max_{C_k} P(X | C_k) \\cdot P(C_k)\n",
    "$$"
   ]
  },
  {
   "cell_type": "markdown",
   "metadata": {
    "id": "mr_xIKPU2adb"
   },
   "source": [
    "## **4.3. Sinif Prior Ehtimallarının ($P(C_k)$) Hesablanması** 📊\n",
    "\n",
    "Prior ehtimal $P(C_k)$, sinifin **ümumi ehtimalı** olub sadəcə olaraq o sinifə aid nümunələrin sayının ümumi nümunə sayına nisbəti kimi tapılır:\n",
    "\n",
    "$$\n",
    "P(C_k) = \\frac{\\text{sinif } C_k\\text{-ə aid nümunələrin sayı}}{\\text{ümumi nümunə sayı}}\n",
    "$$\n",
    "\n",
    "**Misal:**  \n",
    "100 nümunənin 40-ı \"pozitiv\", 60-ı \"neqativ\"dirsə:\n",
    "- $P(\\text{pozitiv}) = \\frac{40}{100} = 0.4$  \n",
    "- $P(\\text{neqativ}) = \\frac{60}{100} = 0.6$"
   ]
  },
  {
   "cell_type": "markdown",
   "metadata": {
    "id": "2RSvFSGw2dO2"
   },
   "source": [
    "## **4.4. Şərtli Ehtimalların ($P(x_i | C_k)$) Hesablanması** 🔍\n",
    "\n",
    "Naive Bayes fərziyyəsinə görə xüsusiyyətlər **şərti olaraq müstəqildir**:\n",
    "\n",
    "$$\n",
    "P(X | C_k) = \\prod_{i=1}^n P(x_i | C_k)\n",
    "$$\n",
    "\n",
    "Bu ehtimalların hesablanması modelin növündən asılıdır:\n",
    "- **Gaussian NB** — normal paylanma sıxlıq funksiyası ilə\n",
    "- **Multinomial NB** — tezliklər əsasında\n",
    "- **Bernoulli NB** — ikili ehtimallar əsasında"
   ]
  },
  {
   "cell_type": "markdown",
   "metadata": {
    "id": "BFHN76lf2EvG"
   },
   "source": [
    "## **4.5. Klassifikasiya Qərar Qaydası** ✅\n",
    "\n",
    "Yekun qərar qaydası belədir:\n",
    "\n",
    "1. Hər sinif üçün $P(C_k)$ hesabla (prior ehtimal)  \n",
    "2. Hər xüsusiyyət üçün $P(x_i | C_k)$ tap  \n",
    "3. Bütün xüsusiyyətlərin ehtimallarını vur:  \n",
    "   $$\n",
    "   P(X | C_k) = \\prod_{i=1}^n P(x_i | C_k)\n",
    "   $$\n",
    "4. MAP qaydası ilə ən yüksək $P(X | C_k) \\cdot P(C_k)$ dəyəri olan sinifi seç:\n",
    "   $$\n",
    "   \\hat{C} = \\arg\\max_{C_k} P(X | C_k) \\cdot P(C_k)\n",
    "   $$\n",
    "\n",
    "💡 **Qısa nəticə:** Naive Bayes-in riyazi əsası sadədir, lakin fərziyyələrinə görə (müstəqillik və paylanma) düzgün tətbiq sahələri seçilməlidir.\n"
   ]
  },
  {
   "cell_type": "markdown",
   "metadata": {
    "id": "cXbRrhIe3Kym"
   },
   "source": [
    "#**5. Preprocessing** 🛠️\n",
    "\n",
    "Naive Bayes modelləri tətbiq etməzdən əvvəl verilənlərin düzgün hazırlanması çox vacibdir. Bu bölmədə əsas **preprocessing** addımları olacaq."
   ]
  },
  {
   "cell_type": "markdown",
   "metadata": {
    "id": "VxAPNDyv3ZCv"
   },
   "source": [
    "## **5.1. Null dəyərlər** ❌🟢\n",
    "\n",
    "- **Əsas problem:** Dataset-də bəzi dəyərlər boş ola bilər.  \n",
    "- **Həll yolları:**\n",
    "  1. **Silmək**: Null nümunələri dataset-dən çıxarmaq  \n",
    "  2. **Doldurmaq (Imputation)**:\n",
    "     - Ortalama ilə (mean)  \n",
    "     - Median ilə  \n",
    "     - Mode ilə (ən çox təkrarlanan dəyər)  \n",
    "\n",
    "**Misal:**  \n",
    "Əgər `yaş` xüsusiyyətində 5 null dəyər varsa, ortalama ilə doldurula bilər:\n",
    "$$\n",
    "\\text{yaş}_{\\text{doldurulmuş}} = \\frac{\\sum \\text{mövcud yaşlar}}{\\text{mövcud nümunələrin sayı}}\n",
    "$$"
   ]
  },
  {
   "cell_type": "code",
   "execution_count": null,
   "metadata": {
    "colab": {
     "base_uri": "https://localhost:8080/"
    },
    "id": "KuN5vPjASBrD",
    "outputId": "9289bfc6-ada8-4a11-99c9-4b6a2e6b284d"
   },
   "outputs": [
    {
     "name": "stdout",
     "output_type": "stream",
     "text": [
      "Əvvəlki DataFrame:\n",
      "    yaş   gəlir\n",
      "0  25.0  5000.0\n",
      "1   NaN  6000.0\n",
      "2  30.0     NaN\n",
      "3  22.0  4500.0\n",
      "4   NaN  7000.0\n",
      "5  28.0     NaN\n",
      "\n",
      "Null dəyərlər doldurulduqdan sonra:\n",
      "     yaş   gəlir\n",
      "0  25.00  5000.0\n",
      "1  26.25  6000.0\n",
      "2  30.00  5625.0\n",
      "3  22.00  4500.0\n",
      "4  26.25  7000.0\n",
      "5  28.00  5625.0\n"
     ]
    }
   ],
   "source": []
  },
  {
   "cell_type": "markdown",
   "metadata": {
    "id": "uR4lGKpk2_Wt"
   },
   "source": [
    "## **5.2. Kategorik Verilənlərin Kodlaşdırılması** 🔤\n",
    "\n",
    "Naive Bayes yalnız **ədədi verilənlərlə** işləyir. Ona görə kategorik dəyişənləri kodlamaq lazımdır.\n",
    "\n",
    "1. **Label Encoding** 🏷️  \n",
    "   Hər kateqoriya ədədi bir dəyərə çevrilir:  \n",
    "   - \"qırmızı\" → 0  \n",
    "   - \"yaşıl\" → 1  \n",
    "   - \"mavi\" → 2  \n",
    "\n",
    "2. **One-Hot Encoding** 🟦🟩🟥  \n",
    "   Hər kateqoriya üçün ayrıca sütun yaradılır, dəyər 0 və ya 1 olur."
   ]
  },
  {
   "cell_type": "code",
   "execution_count": null,
   "metadata": {
    "colab": {
     "base_uri": "https://localhost:8080/"
    },
    "id": "0r71b7KnSJR1",
    "outputId": "4adedd66-d7f9-43d5-e694-d0773e24f1f6"
   },
   "outputs": [
    {
     "name": "stdout",
     "output_type": "stream",
     "text": [
      "Label Encoding:\n",
      "      rəng  rəng_label\n",
      "0  qırmızı           1\n",
      "1    yaşıl           2\n",
      "2     mavi           0\n",
      "3  qırmızı           1\n",
      "4     mavi           0\n",
      "\n",
      "One-Hot Encoding:\n",
      "   rəng_mavi  rəng_qırmızı  rəng_yaşıl\n",
      "0        0.0           1.0         0.0\n",
      "1        0.0           0.0         1.0\n",
      "2        1.0           0.0         0.0\n",
      "3        0.0           1.0         0.0\n",
      "4        1.0           0.0         0.0\n"
     ]
    }
   ],
   "source": []
  },
  {
   "cell_type": "markdown",
   "metadata": {
    "id": "34KwvOGP35sb"
   },
   "source": [
    "## **5.3. Ədədi dəyişənlərin normalizasiyası / standarlaşdırılması** ⚖️\n",
    "\n",
    "Ədədi dəyişənlərin **miqyasları fərqli olduqda** model performansı zəifləyə bilər.  \n",
    "İki əsas üsul var:\n",
    "\n",
    "1. **Min-Max Normalization**:\n",
    "$$\n",
    "x' = \\frac{x - x_{\\min}}{x_{\\max} - x_{\\min}}\n",
    "$$\n",
    "- Dəyərlər 0–1 aralığına çevrilir\n",
    "\n",
    "2. **Standardization (Z-score)**:\n",
    "$$\n",
    "x' = \\frac{x - \\mu}{\\sigma}\n",
    "$$\n",
    "- Dəyərlər 0 ortalama və 1 dispersiya ilə normalizasiya olunur"
   ]
  },
  {
   "cell_type": "code",
   "execution_count": null,
   "metadata": {
    "colab": {
     "base_uri": "https://localhost:8080/"
    },
    "id": "IU1SSYtMSOtR",
    "outputId": "1725d890-49ba-4c33-ac76-d96f7b2c876b"
   },
   "outputs": [
    {
     "name": "stdout",
     "output_type": "stream",
     "text": [
      "Min-Max Normalization:\n",
      "    boy  çəki\n",
      "0  0.00  0.00\n",
      "1  0.25  0.25\n",
      "2  0.50  0.50\n",
      "3  0.75  0.75\n",
      "4  1.00  1.00\n",
      "\n",
      "Standardization (Z-score):\n",
      "        boy      çəki\n",
      "0 -1.414214 -1.414214\n",
      "1 -0.707107 -0.707107\n",
      "2  0.000000  0.000000\n",
      "3  0.707107  0.707107\n",
      "4  1.414214  1.414214\n"
     ]
    }
   ],
   "source": []
  },
  {
   "cell_type": "markdown",
   "metadata": {
    "id": "mJt2nhvu4Cku"
   },
   "source": [
    "## **5.4. Outlier’ların Təsiri** ⚠️\n",
    "\n",
    "Outlierlar Gaussian Naive Bayes üçün kritikdir, çünki **ortalama və dispersiyanı** əhəmiyyətli dərəcədə təsir edə bilər.\n",
    "\n",
    "- **Həll yolları:**\n",
    "- Qırmızı xətt (IQR) ilə çıxarmaq  \n",
    "- Logaritmik çevirmə  \n",
    "- Winsorization (outlierləri sərhədlərə yaxınlaşdırmaq)"
   ]
  },
  {
   "cell_type": "markdown",
   "metadata": {
    "id": "d3L0SRIz3ky-"
   },
   "source": [
    "## **5.5. Özəllik Seçimi** 🔍\n",
    "\n",
    "Modelin performansını artırmaq üçün ən **önəmli xüsusiyyətləri seçmək** lazımdır.\n",
    "\n",
    "- **Metodlar:**\n",
    "1. Korelasiya analizi  \n",
    "2. Chi-square testi (xüsusilə kategorik dəyişənlər üçün)  \n",
    "3. Recursive Feature Elimination (RFE)  \n",
    "4. Mutual Information\n",
    "\n",
    "**Qeyd:** Naive Bayes müstəqillik fərziyyəsinə əsaslandığı üçün **çox yüksək korelyasiya olan xüsusiyyətlər** performansı azalda bilər."
   ]
  },
  {
   "cell_type": "code",
   "execution_count": null,
   "metadata": {
    "colab": {
     "base_uri": "https://localhost:8080/"
    },
    "id": "usiM9gepSSM_",
    "outputId": "326d129d-840f-414b-d745-ce762c7960de"
   },
   "outputs": [
    {
     "name": "stdout",
     "output_type": "stream",
     "text": [
      "Ən yaxşı 2 xüsusiyyət seçildi (X_new):\n",
      "[[5 2]\n",
      " [4 2]\n",
      " [3 3]\n",
      " [2 3]\n",
      " [1 4]]\n"
     ]
    }
   ],
   "source": []
  },
  {
   "cell_type": "markdown",
   "metadata": {
    "id": "rjUVFWZE4d5h"
   },
   "source": [
    "#**6. Model Training və Qiymətləndirmə** 📊"
   ]
  },
  {
   "cell_type": "markdown",
   "metadata": {
    "id": "Md5rHVwB4m1W"
   },
   "source": [
    "## **6.1. GaussianNB, MultinomialNB, BernoulliNB İstifadəsi** 🤖\n",
    "\n",
    "- **GaussianNB** 📈  \n",
    "  - Ədədi (real ədədlər) verilənlər üçün istifadə olunur  \n",
    "  - Normal paylanma fərziyyəsinə əsaslanır  \n",
    "\n",
    "- **MultinomialNB** 🔢  \n",
    "  - Sayma əsaslı verilənlər üçün optimallaşdırılıb  \n",
    "  - Mətn təsnifatı və söz tezliyi məlumatlarında effektivdir  \n",
    "\n",
    "- **BernoulliNB** 0️⃣1️⃣  \n",
    "  - Binary (var/yox) xüsusiyyətlər üçün istifadə olunur  \n",
    "  - Mətn təsnifatı üçün sözün olub-olmaması əsasında işləyir  \n",
    "\n",
    "**Qeyd:** Model seçimi dataset-in xüsusiyyət tipinə görə edilir."
   ]
  },
  {
   "cell_type": "code",
   "execution_count": null,
   "metadata": {
    "colab": {
     "base_uri": "https://localhost:8080/"
    },
    "id": "9kE0sHlzSxsZ",
    "outputId": "84ef9c9c-b07b-469d-b3e8-ed200728f288"
   },
   "outputs": [
    {
     "name": "stdout",
     "output_type": "stream",
     "text": [
      "GaussianNB Accuracy: 0.9415204678362573\n",
      "              precision    recall  f1-score   support\n",
      "\n",
      "           0       0.93      0.90      0.92        63\n",
      "           1       0.95      0.96      0.95       108\n",
      "\n",
      "    accuracy                           0.94       171\n",
      "   macro avg       0.94      0.93      0.94       171\n",
      "weighted avg       0.94      0.94      0.94       171\n",
      "\n"
     ]
    }
   ],
   "source": []
  },
  {
   "cell_type": "markdown",
   "metadata": {
    "id": "SFBzCJLd4uvd"
   },
   "source": [
    "## **6.2. Train-Test Split və Cross-Validation** 🔄\n",
    "\n",
    "- **Train-Test Split**  \n",
    "  - Dataset-i **train və test hissələrinə** bölmək vacibdir  \n",
    "  - Adətən 70-80% train, 20-30% test kimi bölünür  \n",
    "  - Train zamanı model parametrləri öyrədilir, test ilə qiymətləndirilir  \n",
    "\n",
    "- **Cross-Validation (CV)**  \n",
    "  - Dataset-in bir neçə hissəyə bölünərək hər hissənin test üçün istifadə edilməsi  \n",
    "  - **K-Fold CV:** Dataset K hissəyə bölünür, hər fold bir dəfə test, qalan fold-lar təlim üçün istifadə olunur  \n",
    "  - Daha sabit və ümumiləşdirilmiş performans ölçüsü verir"
   ]
  },
  {
   "cell_type": "code",
   "execution_count": null,
   "metadata": {
    "colab": {
     "base_uri": "https://localhost:8080/"
    },
    "id": "ImdYOBiuSz4T",
    "outputId": "5dd428eb-6df6-4036-d94b-fa2515737106"
   },
   "outputs": [
    {
     "name": "stdout",
     "output_type": "stream",
     "text": [
      "GaussianNB 5-Fold CV Accuracy: [0.92105263 0.92105263 0.94736842 0.94736842 0.95575221]\n",
      "Average CV Accuracy: 0.9385188635305075\n"
     ]
    }
   ],
   "source": []
  },
  {
   "cell_type": "markdown",
   "metadata": {
    "id": "yDOa3piO4zjh"
   },
   "source": [
    "## **6.3. Performans Metrikləri** 📏\n",
    "\n",
    "Modelin keyfiyyətini ölçmək üçün bir neçə əsas metrik istifadə olunur:\n",
    "\n",
    "1. **Accuracy (Dəqiqlik)** ✅  \n",
    "   $$\n",
    "   \\text{Accuracy} = \\frac{\\text{Düzgün təxmin sayı}}{\\text{Ümumi nümunə sayı}}\n",
    "   $$\n",
    "\n",
    "2. **Precision (Dəqiqlik / Məxsusluq)** 🎯  \n",
    "   $$\n",
    "   \\text{Precision} = \\frac{\\text{TP}}{\\text{TP + FP}}\n",
    "   $$  \n",
    "   - TP: doğru pozitiv  \n",
    "   - FP: yalnış pozitiv  \n",
    "\n",
    "3. **Recall (Həssaslıq)** 🔍  \n",
    "   $$\n",
    "   \\text{Recall} = \\frac{\\text{TP}}{\\text{TP + FN}}\n",
    "   $$  \n",
    "   - FN: yalnış neqativ  \n",
    "\n",
    "4. **F1-Score** ⚖️  \n",
    "   $$\n",
    "   F1 = 2 \\cdot \\frac{\\text{Precision} \\cdot \\text{Recall}}{\\text{Precision + Recall}}\n",
    "   $$  \n",
    "   - Precision və Recall arasında balans yaratmaq üçün istifadə olunur."
   ]
  },
  {
   "cell_type": "code",
   "execution_count": null,
   "metadata": {
    "colab": {
     "base_uri": "https://localhost:8080/"
    },
    "id": "qeX_06p0S5Ra",
    "outputId": "86474f31-25b0-4dc7-8a96-800c4e5a8906"
   },
   "outputs": [
    {
     "name": "stdout",
     "output_type": "stream",
     "text": [
      "Confusion Matrix:\n",
      " [[ 57   6]\n",
      " [  4 104]]\n"
     ]
    }
   ],
   "source": []
  },
  {
   "cell_type": "markdown",
   "metadata": {
    "id": "shvlkPN-432X"
   },
   "source": [
    "## **6.4. Confusion Matrix Analizi** 🧩\n",
    "\n",
    "- **Confusion Matrix** modelin proqnozlarını və əsl sinifləri **matris şəklində** göstərir:\n",
    "\n",
    "|            | Predicted Positive | Predicted Negative |\n",
    "|------------|-----------------|-----------------|\n",
    "| Actual Positive | TP              | FN              |\n",
    "| Actual Negative | FP              | TN              |\n",
    "\n",
    "- Bu matris əsasında:\n",
    "  - **Hansı siniflərdə səhvlərin çox olduğu** aydın olur  \n",
    "  - Modelin zəif və güclü tərəfləri analiz edilir"
   ]
  },
  {
   "cell_type": "code",
   "execution_count": null,
   "metadata": {
    "colab": {
     "base_uri": "https://localhost:8080/",
     "height": 472
    },
    "id": "BXfB6UP_UYN6",
    "outputId": "4346bce1-4972-4327-8a05-e6310ae9f431"
   },
   "outputs": [
    {
     "data": {
      "image/png": "[encoded data removed]",
      "text/plain": [
       "<Figure size 640x480 with 2 Axes>"
      ]
     },
     "metadata": {},
     "output_type": "display_data"
    }
   ],
   "source": []
  },
  {
   "cell_type": "markdown",
   "metadata": {
    "id": "Hc5rniWm4YFf"
   },
   "source": [
    "## **6.5. ROC Əyrisi və AUC Dəyəri** 📈\n",
    "\n",
    "- **ROC (Receiver Operating Characteristic) əyrisi:**  \n",
    "  - True Positive Rate (TPR) və False Positive Rate (FPR) arasındakı əlaqəni göstərir  \n",
    "  - Yüksək TPR və aşağı FPR, modelin yaxşı performans göstərdiyini göstərir\n",
    "\n",
    "- **AUC (Area Under Curve) dəyəri:**  \n",
    "  - ROC əyrisi altındakı sahə  \n",
    "  - 0.5 → təsadüfi performans  \n",
    "  - 1.0 → mükəmməl performans  \n",
    "  - Daha böyük AUC → daha yaxşı model performansı\n",
    "\n",
    "\n",
    "💡 **Qısa nəticə:**  \n",
    "Naive Bayes modellərini qiymətləndirmək üçün həm **train-test bölünməsi**, həm **cross-validation**, həm də **accuracy, precision, recall, F1-score, confusion matrix, ROC-AUC** kimi metriklərdən istifadə etmək lazımdır.\n"
   ]
  },
  {
   "cell_type": "code",
   "execution_count": null,
   "metadata": {
    "colab": {
     "base_uri": "https://localhost:8080/",
     "height": 472
    },
    "id": "hsHKiObTUc8O",
    "outputId": "e57a3b69-c9e5-4410-9f2f-86d716344602"
   },
   "outputs": [
    {
     "data": {
      "image/png": "[encoded data removed]",
      "text/plain": [
       "<Figure size 640x480 with 1 Axes>"
      ]
     },
     "metadata": {},
     "output_type": "display_data"
    }
   ],
   "source": []
  },
  {
   "cell_type": "markdown",
   "metadata": {
    "id": "upb2P3Io5boT"
   },
   "source": [
    "#**7. Naive Bayes’in Tətbiq Sahələri** 🌐\n",
    "\n",
    "Naive Bayes modelləri sürətli və sadə olmasına görə müxtəlif sahələrdə geniş istifadə olunur."
   ]
  },
  {
   "cell_type": "markdown",
   "metadata": {
    "id": "Q0r_841M5y75"
   },
   "source": [
    "##7.1. Mətn Təsnifatı\n",
    "\n",
    "- **Spam Detection:**  \n",
    "  - E-poçt mesajlarının **spam və ya normal** olduğunu təsnif etmək üçün istifadə olunur  \n",
    "  - Hər bir sözün **tekrarlanma ehtimalı** əsasında mesajın ehtimalı hesablanır  \n",
    "\n",
    "- **Sentiment Analysis:**  \n",
    "  - Mətnlərin **müsbət, mənfi və ya neytral** hisslərini təsnif edir  \n",
    "  - Sosial media postları, məhsul rəyləri və s. üzərində tətbiq olunur  \n",
    "\n",
    "- **Nümunə:**  \n",
    "  - Mətn: \"Bu məhsul çox yaxşıdır!\"  \n",
    "  - Naive Bayes ehtimalı hesablayır və nəticəni `müsbət` kimi təsnif edir"
   ]
  },
  {
   "cell_type": "markdown",
   "metadata": {
    "id": "MI0t07qp57Dt"
   },
   "source": [
    "## **7.2. Sənəd Kateqoriyalaşdırılması (Document Categorization)** 📄\n",
    "\n",
    "- Mətn və sənədləri **mövzu və ya kateqoriya** üzrə təsnif etmək üçün istifadə olunur  \n",
    "- Hər sənədin içindəki sözlərin **yayılma ehtimalına** əsaslanır  \n",
    "\n",
    "- **Misal:**  \n",
    "  - Xəbər məqaləsi: \"İdman turniri və qaliblər\"  \n",
    "  - Model ehtimal hesablayır və sənədi `İdman` kateqoriyasına yerləşdirir 🏆"
   ]
  },
  {
   "cell_type": "markdown",
   "metadata": {
    "id": "aJyEaHST599z"
   },
   "source": [
    "## **7.3. Tibbi Diaqnostik Sistemlər (Medical Diagnosis Systems)**\n",
    "\n",
    "- Xəstəlikləri **simptomlara əsaslanaraq proqnozlaşdırmaq** üçün istifadə olunur  \n",
    "- Gaussian Naive Bayes xüsusilə **sürekli tibbi ölçümlər** üçün uyğundur  \n",
    "\n",
    "- **Misal:**  \n",
    "  - Simptomlar: yüksək temperatur, baş ağrısı, öskürək  \n",
    "  - Model xəstəliyi (məsələn qrip) ehtimalını hesablayır  \n",
    "\n",
    "- **Üstünlük:**  \n",
    "  - Kiçik tibbi dataset-lərdə belə sürətli və effektiv nəticə verir  "
   ]
  },
  {
   "cell_type": "markdown",
   "metadata": {
    "id": "yFtF0Zj36ABP"
   },
   "source": [
    "## **7.4. Real Zamanlı Proqnoz Sistemləri (Real-Time Prediction Systems)** ⏱️⚡\n",
    "\n",
    "- Naive Bayes çox sürətli olduğu üçün **real zamanlı tətbiqlərdə** geniş istifadə olunur  \n",
    "- Ticarət, IoT və sensor məlumatlarında tez cavab vermək vacibdir  \n",
    "\n",
    "- **Misal:**  \n",
    "  - Hava sensorları: temperatur və rütubət məlumatlarından **yağış ehtimalını** proqnozlaşdırmaq  \n",
    "  - Maliyyə tətbiqləri: valyuta qiymətlərinin trendini real zamanda təxmin etmək"
   ]
  },
  {
   "cell_type": "markdown",
   "metadata": {
    "id": "w2TTIBY15W_0"
   },
   "source": [
    "## **7.5. Fırıldaqçılıq Tapma (Fraud Detection)** 💳🚨\n",
    "\n",
    "- Kredit kartı və bank əməliyyatlarında **anomal davranışları** aşkarlamaq üçün istifadə olunur  \n",
    "- Hər əməliyyatın normal və ya şübhəli olma ehtimalı hesablanır  \n",
    "\n",
    "- **Misal:**  \n",
    "  - Birdən-birə böyük məbləğdə alış-veriş  \n",
    "  - Naive Bayes bu əməliyyatın ehtimalını şübhəli kimi müəyyən edir ⚠️\n",
    "\n",
    "💡 **Qısa nəticə:**  \n",
    "Naive Bayes modelləri sürət, sadəlik və statistik etibarlılığı səbəbindən **mətn analizi, tibbi diaqnostika, real zamanlı proqnoz və fırıldaqçılıq aşkarlama** kimi sahələrdə çox geniş tətbiq olunur.\n"
   ]
  },
  {
   "cell_type": "markdown",
   "metadata": {
    "id": "MA6Z_4je6X83"
   },
   "source": [
    "#**8. Optimizasiya** ⚙️🚀\n",
    "\n",
    "Naive Bayes modeli sadə olsa da, real dünyada performansı artırmaq üçün bir neçə **optimizasiya** texnikası mövcuddur.\n"
   ]
  },
  {
   "cell_type": "markdown",
   "metadata": {
    "id": "wZ9jAlBk6d3P"
   },
   "source": [
    "## **8.1. Laplace (Additive) Smoothing** ➕\n",
    "\n",
    "- **Problem:**  \n",
    "  Multinomial və Bernoulli Naive Bayes-də **heç vaxt görülməmiş xüsusiyyətlər** sıfır ehtimala səbəb olur:\n",
    "  $$\n",
    "  P(x_i | C_k) = 0\n",
    "  $$\n",
    "  Bu isə bütün məhsul ehtimalını sıfırlayır ❌\n",
    "\n",
    "- **Həll:** **Laplace smoothing**  \n",
    "  - Hər xüsusiyyətə kiçik bir dəyər əlavə edilir (adətən $\\alpha = 1$):\n",
    "  $$\n",
    "  P(x_i | C_k) = \\frac{n_{c_i} + \\alpha}{N_c + \\alpha \\cdot m}\n",
    "  $$\n",
    "  Burada:  \n",
    "  - $n_{c_i}$ — sinifdə xüsusiyyətin sayı  \n",
    "  - $N_c$ — sinifdəki bütün xüsusiyyətlərin sayı  \n",
    "  - $m$ — unikal xüsusiyyətlərin sayı  \n",
    "  - $\\alpha$ — smoothing parametri  \n",
    "\n",
    "- **Nəticə:** Sıfır ehtimallar aradan qalxır və model daha stabil olur ✅"
   ]
  },
  {
   "cell_type": "markdown",
   "metadata": {
    "id": "XsT1_IC96kPl"
   },
   "source": [
    "## **8.2. Class Imbalance** ⚖️\n",
    "\n",
    "- **Problem:** Siniflər balanssız olduqda model **majority class**-ı üstün tutar  \n",
    "- **Həll yolları:**  \n",
    "  1. **Sinif çəkisi (class weight) əlavə etmək**  \n",
    "  2. **Oversampling / Undersampling**  \n",
    "     - SMOTE və ya Random Oversampling ilə minority class artırılır  \n",
    "     - Random Undersampling ilə majority class azaldılır  \n",
    "  3. **Complement Naive Bayes** – balanssız verilənlər üçün optimallaşdırılmış variant  \n",
    "\n",
    "- **Nəticə:** Model bütün sinifləri daha ədalətli şəkildə təsnif edir 🎯"
   ]
  },
  {
   "cell_type": "markdown",
   "metadata": {
    "id": "KQS0I4P26pNa"
   },
   "source": [
    "\n",
    "## **8.3.Independence Assumption Violation** 🔗\n",
    "\n",
    "- **Naive Bayes fərziyyəsi:** Xüsusiyyətlər **müstəqildir**  \n",
    "- **Problem:** Reallıqda xüsusiyyətlər **bir-birinə bağlı ola bilər**  \n",
    "  - Məsələn, tibbi dataset-də \"yaş\" və \"təzyiq\" yüksək korelyasiyaya malik ola bilər  \n",
    "- **Təsiri:**  \n",
    "  - Asılılıq artırsa, modelin ehtimalları səhv ola bilər  \n",
    "- **Həll yolları:**  \n",
    "  1. **Özəllik seçimi (feature selection)** ilə korelyasiya azaldılır  \n",
    "  2. **PCA və ya Dimensionality Reduction** ilə bağımlılıq azaldılır  \n",
    "  3. Hybrid modellər (NB + Tree / Logistic Regression) ilə daha doğru nəticə əldə edilir"
   ]
  },
  {
   "cell_type": "markdown",
   "metadata": {
    "id": "jQmeni2W6zbi"
   },
   "source": [
    "## **8.4. Hibrid Naive Bayes Modelləri** 🔀\n",
    "\n",
    "- **Hibrid model:** Naive Bayes-i digər modellərlə birləşdirir  \n",
    "  - Məsələn: GaussianNB + Logistic Regression, MultinomialNB + Random Forest  \n",
    "- **Faydalı halları:**  \n",
    "  - Xüsusiyyətlər müstəqillik fərziyyəsini pozduqda  \n",
    "  - Kompleks dataset-lərdə daha yaxşı performans lazım olduqda  \n",
    "- **Nəticə:** Hibrid model **daha yüksək doğruluq və stabil nəticə** verir 🚀"
   ]
  },
  {
   "cell_type": "markdown",
   "metadata": {
    "id": "zznEwRsC6Rkm"
   },
   "source": [
    "## **8.5. Naive Bayes ilə Feature Engineering Strategiyaları** 🛠️\n",
    "\n",
    "- **Feature engineering** Naive Bayes üçün çox vacibdir\n",
    "- **Taktikalar:**  \n",
    "  1. **Tokenization və Text Preprocessing** (stopword çıxarılması, stemming, lemmatization)  \n",
    "  2. **TF-IDF və ya word frequency features** istifadə etmək  \n",
    "  3. **Binary features (0/1)** yaratmaq (Bernoulli NB üçün)  \n",
    "  4. **Discretization** – sürekli xüsusiyyətləri qruplaşdırmaq (Gaussian NB üçün)  \n",
    "  5. **Interaction features** – xüsusiyyətlərin kombinasiyalarını yaratmaq, amma diqqətli olmaq lazımdır, müstəqillik fərziyyəsini pozmamaq  \n",
    "\n",
    "- **Nəticə:** Yaxşı hazırlanmış xüsusiyyətlər modeli **daha güclü və dəqiq** edir ✅"
   ]
  },
  {
   "cell_type": "markdown",
   "metadata": {
    "id": "WMXMYbEp7N-O"
   },
   "source": [
    "# **9. Tətbiq** 🚀"
   ]
  },
  {
   "cell_type": "markdown",
   "metadata": {
    "id": "Za5MkRMh7XyQ"
   },
   "source": [
    "## **9.1. Python ilə GaussianNB Tətbiqi** 🐍📊\n",
    "\n",
    "- **Python və scikit-learn** kitabxanası GaussianNB tətbiqi üçün çox uyğundur  \n",
    "- Addımlar:  \n",
    "  1. Dataset-i yükləmək və preprocessing aparmaq  \n",
    "  2. Xüsusiyyətləri və etiketi ayırmaq  \n",
    "  3. Modeli yaratmaq və train etmək  \n",
    "  4. Train nəticələrini qiymətləndirmək"
   ]
  },
  {
   "cell_type": "markdown",
   "metadata": {
    "id": "UiEXrNI47gLb"
   },
   "source": [
    "## **9.2. Model Nəticələrinin Şərh Edilməsi** 📈🧐\n",
    "\n",
    "- Model nəticələrini qiymətləndirmək üçün aşağıdakı məqamlar nəzərə alınmalıdır:  \n",
    "  - **Accuracy, Precision, Recall, F1-score**  \n",
    "  - **Confusion Matrix** analizi  \n",
    "  - Hər sinif üçün ehtimalların paylanması  \n",
    "- **Nümunə:**  \n",
    "  - Model “pozitiv” ehtimalı yüksək olan nümunəni düzgün təsnif edirsə, bu nəticə **etibarlı** sayılır ✅  \n",
    "  - Səhvlər varsa, hansı xüsusiyyətlər problem yaratdığını araşdırmaq lazımdır"
   ]
  },
  {
   "cell_type": "markdown",
   "metadata": {
    "id": "IKEtYSZ67vMr"
   },
   "source": [
    "## **9.3. Hiperparametr Requlyasiyası** ⚙️\n",
    "\n",
    "- GaussianNB üçün əsas hiperparametr: **var_smoothing**  \n",
    "  - Kiçik dəyərlər dispersiyanı stabilləşdirir  \n",
    "  - Daha böyük dəyərlər isə modelin həddindən artıq sadələşməsinə səbəb ola bilər  \n",
    "- MultinomialNB və BernoulliNB-də **alpha (Laplace smoothing)** əhəmiyyətlidir  \n",
    "- Hiperparametr tuning metodları:  \n",
    "  - Grid Search  \n",
    "  - Random Search  \n",
    "  - Cross-validation  \n",
    "\n",
    "- Məqsəd: Modelin həm **train, həm də test dəqiqliyini** artırmaq 🎯"
   ]
  },
  {
   "cell_type": "markdown",
   "metadata": {
    "id": "J1jOQ7yW8AIo"
   },
   "source": [
    "## **9.4. Model Deployment** 🏭\n",
    "\n",
    "- Train edilmiş model real dünyada istifadə üçün hazırlıq mərhələsi:  \n",
    "  1. Model fayl şəklində saxlanır (pickle, joblib və s.)  \n",
    "  2. API və ya servis vasitəsilə tətbiqlərə inteqrasiya olunur  \n",
    "  3. Giriş verilənləri preprocessingdən keçirilir və model proqnoz verir  \n",
    "\n",
    "- **Qeyd:** Performans və sabitlik təmin olunmalıdır, xüsusilə real zamanlı sistemlər üçün ⚡"
   ]
  },
  {
   "cell_type": "markdown",
   "metadata": {
    "id": "I0quK4Sd7HZw"
   },
   "source": [
    "## **9.5. Modelin Vaxtaşırı Yenilənməsi** ⏳🔄\n",
    "\n",
    "- Real dünya məlumatları zamanla dəyişə bilər (**data drift**)  \n",
    "- Yeniləmə üsulları:  \n",
    "  - Periodik olaraq modeli yenidən train etmək  \n",
    "  - Yeni nümunələri əlavə edərək incremental learning  \n",
    "  - Hiperparametrləri yenidən optimallaşdırmaq  \n",
    "\n",
    "- Məqsəd: Model **uzun müddət etibarlı və dəqiq** qalmalıdır ✅\n"
   ]
  }
 ],
 "metadata": {
  "colab": {
   "provenance": []
  },
  "kernelspec": {
   "display_name": "Python 3",
   "name": "python3"
  },
  "language_info": {
   "name": "python"
  }
 },
 "nbformat": 4,
 "nbformat_minor": 0
}
